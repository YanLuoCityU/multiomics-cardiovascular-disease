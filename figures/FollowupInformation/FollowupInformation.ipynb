{
 "cells": [
  {
   "cell_type": "code",
   "execution_count": null,
   "metadata": {},
   "outputs": [],
   "source": [
    "import os\n",
    "os.chdir('/your path/multiomics-cardiovascular-disease')\n",
    "print(os.getcwd())\n",
    "\n",
    "import sys\n",
    "sys.path.append('/your path/multiomics-cardiovascular-disease/data_loader')\n",
    "sys.path"
   ]
  },
  {
   "cell_type": "code",
   "execution_count": null,
   "metadata": {},
   "outputs": [],
   "source": [
    "import logging\n",
    "import pandas as pd\n",
    "import seaborn as sns\n",
    "import matplotlib.pyplot as plt\n",
    "from brokenaxes import brokenaxes\n",
    "from sksurv.util import Surv\n",
    "from sksurv.nonparametric import kaplan_meier_estimator\n",
    "from lifelines import KaplanMeierFitter\n",
    "from data_preparation import UKBiobankDataMerge"
   ]
  },
  {
   "cell_type": "code",
   "execution_count": null,
   "metadata": {},
   "outputs": [],
   "source": [
    "data_dir = '/your path/multiomics-cardiovascular-disease/data/'\n",
    "figures_dir = '/your path/multiomics-cardiovascular-disease/figures'\n",
    "log_filename = os.path.join(figures_dir, 'FollowupInformation/FollowupInformation.log')\n",
    "logging.basicConfig(level=logging.INFO, filename=log_filename, filemode='w', format='%(asctime)s - %(levelname)s - %(message)s')\n",
    "logger = logging.getLogger()\n",
    "data = UKBiobankDataMerge(data_dir=data_dir, logger=logger)"
   ]
  },
  {
   "cell_type": "code",
   "execution_count": null,
   "metadata": {},
   "outputs": [],
   "source": [
    "ukb_df = data.get_merged_data(excluded=True)\n",
    "ukb_df"
   ]
  },
  {
   "cell_type": "markdown",
   "metadata": {},
   "source": [
    "# Median followup time"
   ]
  },
  {
   "cell_type": "code",
   "execution_count": null,
   "metadata": {},
   "outputs": [],
   "source": [
    "# Calculate the range of follow-up time\n",
    "min_follow_up_time = ukb_df['bl2cved_yrs'].min()\n",
    "max_follow_up_time = ukb_df['bl2cved_yrs'].max()\n",
    "logger.info(\"Minimum follow-up time: %.4f years\", min_follow_up_time)\n",
    "logger.info(\"Maximum follow-up time: %.4f years\", max_follow_up_time)\n",
    "\n",
    "# Calculate median follow-up time\n",
    "median_follow_up_time = ukb_df['bl2cved_yrs'].median()\n",
    "logger.info(\"Median follow-up time: %.4f years\", median_follow_up_time)\n",
    "\n",
    "density_plot = sns.kdeplot(ukb_df['bl2cved_yrs'], fill=False)\n",
    "density_y_values = density_plot.get_lines()[0].get_ydata()\n",
    "density_x_values = density_plot.get_lines()[0].get_xdata()\n",
    "# median_y_value = density_y_values[density_x_values.tolist().index(min(density_x_values, key=lambda x: abs(x - median_follow_up_time)))]\n",
    "\n",
    "# Plot the density plot\n",
    "plt.figure(figsize=(10, 6))\n",
    "density_plot = sns.kdeplot(ukb_df['bl2cved_yrs'], fill=True, color='#8491B4')\n",
    "# plt.axvline(median_follow_up_time, color='gray', linestyle='--', ymax=median_y_value / max(density_y_values)-0.0378)\n",
    "plt.axvline(median_follow_up_time, color='gray', linestyle='--', ymax=0.88)\n",
    "\n",
    "# Add the median follow-up time\n",
    "plt.text(plt.xlim()[0] + 0.5, plt.ylim()[0] + 0.025, f'Median: {median_follow_up_time:.1f} years', color='black', fontsize=12)\n",
    "\n",
    "# Add labels\n",
    "plt.xlabel('Observation time (years)', fontsize=12)\n",
    "plt.ylabel('Density', fontsize=12)\n",
    "\n",
    "# Save the figure\n",
    "output_pdf_dir = os.path.join(figures_dir, 'FollowupInformation/Median_followup_time.pdf')\n",
    "output_png_dir = os.path.join(figures_dir, 'FollowupInformation/Median_followup_time.png')\n",
    "plt.savefig(output_pdf_dir, format='pdf', dpi=300, bbox_inches='tight')\n",
    "plt.savefig(output_png_dir, format='png', dpi=300, bbox_inches='tight')\n",
    "\n",
    "plt.show()"
   ]
  },
  {
   "cell_type": "markdown",
   "metadata": {},
   "source": [
    "# CVD-free survival (Cardiovascular diseases + Cardiovascular death)"
   ]
  },
  {
   "cell_type": "code",
   "execution_count": null,
   "metadata": {},
   "outputs": [],
   "source": [
    "male_df = ukb_df[ukb_df['male'] == 1]\n",
    "female_df = ukb_df[ukb_df['male'] == 0]\n",
    "\n",
    "kmf_male = KaplanMeierFitter()\n",
    "kmf_female = KaplanMeierFitter()\n",
    "\n",
    "kmf_male.fit(durations=male_df['bl2cved_yrs'], event_observed=male_df['cved'], label='Male')\n",
    "kmf_female.fit(durations=female_df['bl2cved_yrs'], event_observed=female_df['cved'], label='Female')"
   ]
  },
  {
   "cell_type": "code",
   "execution_count": null,
   "metadata": {},
   "outputs": [],
   "source": [
    "male_data = kmf_male.confidence_interval_survival_function_.copy()\n",
    "male_data['timeline'] = kmf_male.survival_function_.index\n",
    "male_data['survival_prob'] = kmf_male.survival_function_['Male']\n",
    "male_data['sex'] = 'Male'\n",
    "\n",
    "male_data = male_data.rename(columns={\n",
    "    'Male_lower_0.95': 'lower_0.95',\n",
    "    'Male_upper_0.95': 'upper_0.95'\n",
    "})\n",
    "\n",
    "female_data = kmf_female.confidence_interval_survival_function_.copy()\n",
    "female_data['timeline'] = kmf_female.survival_function_.index\n",
    "female_data['survival_prob'] = kmf_female.survival_function_['Female']\n",
    "female_data['sex'] = 'Female'\n",
    "\n",
    "female_data = female_data.rename(columns={\n",
    "    'Female_lower_0.95': 'lower_0.95',\n",
    "    'Female_upper_0.95': 'upper_0.95'\n",
    "})\n",
    "\n",
    "combined_data = pd.concat([male_data[['timeline', 'survival_prob', 'lower_0.95', 'upper_0.95', 'sex']],\n",
    "                           female_data[['timeline', 'survival_prob', 'lower_0.95', 'upper_0.95', 'sex']]], \n",
    "                          axis=0).reset_index(drop=True)\n",
    "combined_data.to_csv('/your path/MultiomicsCVD/figures/FollowupInformation/cvd_free_survival.csv', index=False)\n",
    "combined_data"
   ]
  }
 ],
 "metadata": {
  "kernelspec": {
   "display_name": "omicscvd",
   "language": "python",
   "name": "python3"
  },
  "language_info": {
   "codemirror_mode": {
    "name": "ipython",
    "version": 3
   },
   "file_extension": ".py",
   "mimetype": "text/x-python",
   "name": "python",
   "nbconvert_exporter": "python",
   "pygments_lexer": "ipython3",
   "version": "3.10.14"
  }
 },
 "nbformat": 4,
 "nbformat_minor": 2
}
